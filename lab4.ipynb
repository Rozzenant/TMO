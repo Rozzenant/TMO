{
 "cells": [
  {
   "cell_type": "code",
   "execution_count": 34,
   "id": "c1f7e04d",
   "metadata": {},
   "outputs": [],
   "source": [
    "from sklearn import datasets\n",
    "from sklearn.model_selection import train_test_split\n",
    "from sklearn.neighbors import KNeighborsClassifier\n",
    "from sklearn.metrics import accuracy_score, confusion_matrix, precision_score, recall_score, f1_score\n",
    "from sklearn.model_selection import GridSearchCV, RandomizedSearchCV, KFold, StratifiedKFold\n",
    "from sklearn.linear_model import LogisticRegression\n",
    "from sklearn.tree import DecisionTreeClassifier\n",
    "from sklearn.svm import SVC\n",
    "import numpy as np\n",
    "import pandas as pd\n",
    "import seaborn as sns\n",
    "import matplotlib.pyplot as plt\n",
    "import warnings\n",
    "warnings.filterwarnings('ignore')\n",
    "%matplotlib inline \n",
    "sns.set(style=\"ticks\")"
   ]
  },
  {
   "cell_type": "code",
   "execution_count": 35,
   "id": "13d2bbea",
   "metadata": {},
   "outputs": [
    {
     "data": {
      "text/html": [
       "<div>\n",
       "<style scoped>\n",
       "    .dataframe tbody tr th:only-of-type {\n",
       "        vertical-align: middle;\n",
       "    }\n",
       "\n",
       "    .dataframe tbody tr th {\n",
       "        vertical-align: top;\n",
       "    }\n",
       "\n",
       "    .dataframe thead th {\n",
       "        text-align: right;\n",
       "    }\n",
       "</style>\n",
       "<table border=\"1\" class=\"dataframe\">\n",
       "  <thead>\n",
       "    <tr style=\"text-align: right;\">\n",
       "      <th></th>\n",
       "      <th>sepal length (cm)</th>\n",
       "      <th>sepal width (cm)</th>\n",
       "      <th>petal length (cm)</th>\n",
       "      <th>petal width (cm)</th>\n",
       "      <th>target</th>\n",
       "    </tr>\n",
       "  </thead>\n",
       "  <tbody>\n",
       "    <tr>\n",
       "      <th>0</th>\n",
       "      <td>5.1</td>\n",
       "      <td>3.5</td>\n",
       "      <td>1.4</td>\n",
       "      <td>0.2</td>\n",
       "      <td>setosa</td>\n",
       "    </tr>\n",
       "    <tr>\n",
       "      <th>1</th>\n",
       "      <td>4.9</td>\n",
       "      <td>3.0</td>\n",
       "      <td>1.4</td>\n",
       "      <td>0.2</td>\n",
       "      <td>setosa</td>\n",
       "    </tr>\n",
       "    <tr>\n",
       "      <th>2</th>\n",
       "      <td>4.7</td>\n",
       "      <td>3.2</td>\n",
       "      <td>1.3</td>\n",
       "      <td>0.2</td>\n",
       "      <td>setosa</td>\n",
       "    </tr>\n",
       "  </tbody>\n",
       "</table>\n",
       "</div>"
      ],
      "text/plain": [
       "   sepal length (cm)  sepal width (cm)  petal length (cm)  petal width (cm)  \\\n",
       "0                5.1               3.5                1.4               0.2   \n",
       "1                4.9               3.0                1.4               0.2   \n",
       "2                4.7               3.2                1.3               0.2   \n",
       "\n",
       "   target  \n",
       "0  setosa  \n",
       "1  setosa  \n",
       "2  setosa  "
      ]
     },
     "execution_count": 35,
     "metadata": {},
     "output_type": "execute_result"
    }
   ],
   "source": [
    "iris = datasets.load_iris()\n",
    "# Преобразование данных в DataFrame\n",
    "data = pd.DataFrame(data=iris.data, columns=iris.feature_names)\n",
    "data['target'] = iris.target\n",
    "\n",
    "# Замена числовых меток классов на их названия\n",
    "target_names = {i: name for i, name in enumerate(iris.target_names)}\n",
    "data['target'] = data['target'].map(target_names)\n",
    "\n",
    "data.head(3)"
   ]
  },
  {
   "cell_type": "code",
   "execution_count": 36,
   "id": "447ca60c",
   "metadata": {},
   "outputs": [],
   "source": [
    "x = data.drop('target', axis=1)  # Признаки\n",
    "y = data['target']               # Целевая переменная\n",
    "\n",
    "# Разделение данных на обучающую и тестовую выборки\n",
    "x_train, x_test, y_train, y_test = train_test_split(x, y, test_size=0.2, random_state=999)"
   ]
  },
  {
   "cell_type": "code",
   "execution_count": 37,
   "id": "ce9d79e6",
   "metadata": {},
   "outputs": [],
   "source": [
    "# модель логистической регрессии\n",
    "logistic_reg = LogisticRegression(random_state=999)\n",
    "logistic_reg.fit(x_train, y_train)\n",
    "y_pred_lr = logistic_reg.predict(x_test)"
   ]
  },
  {
   "cell_type": "code",
   "execution_count": 38,
   "id": "5e751537",
   "metadata": {},
   "outputs": [],
   "source": [
    "# модель SVM\n",
    "svm_model = SVC(kernel='linear', random_state=999)\n",
    "svm_model.fit(x_train, y_train)\n",
    "y_pred_svm = svm_model.predict(x_test)"
   ]
  },
  {
   "cell_type": "code",
   "execution_count": 39,
   "id": "35394095",
   "metadata": {},
   "outputs": [],
   "source": [
    "# модель дерева решений\n",
    "tree_model = DecisionTreeClassifier(random_state=999)\n",
    "tree_model.fit(x_train, y_train)\n",
    "y_pred_tree = tree_model.predict(x_test)"
   ]
  },
  {
   "cell_type": "code",
   "execution_count": 40,
   "id": "ba532690",
   "metadata": {},
   "outputs": [
    {
     "name": "stdout",
     "output_type": "stream",
     "text": [
      "Логистическая регрессия:\n",
      "Accuracy: 0.9\n",
      "Precision: 0.9064935064935064\n",
      "Recall: 0.9\n",
      "F1-мера: 0.9016722408026755\n",
      "\n",
      "Модель SVM:\n",
      "Accuracy: 0.9666666666666667\n",
      "Precision: 0.9692307692307692\n",
      "Recall: 0.9666666666666667\n",
      "F1-мера: 0.9658181818181819\n",
      "\n",
      "Дерево решений:\n",
      "Accuracy: 0.9333333333333333\n",
      "Precision: 0.9333333333333333\n",
      "Recall: 0.9333333333333333\n",
      "F1-мера: 0.9333333333333333\n"
     ]
    }
   ],
   "source": [
    "# Оценка качества модели логистической регрессии\n",
    "precision_lr = precision_score(y_test, y_pred_lr, average='weighted')\n",
    "recall_lr = recall_score(y_test, y_pred_lr, average='weighted')\n",
    "accuracy_lr = accuracy_score(y_test, y_pred_lr)\n",
    "f1_lr = f1_score(y_test, y_pred_lr, average='weighted')\n",
    "\n",
    "print(\"Логистическая регрессия:\")\n",
    "print(\"Accuracy:\", accuracy_lr)\n",
    "print(\"Precision:\", precision_lr)\n",
    "print(\"Recall:\", recall_lr)\n",
    "print(\"F1-мера:\", f1_lr)\n",
    "print()\n",
    "\n",
    "# Оценка качества модели SVM\n",
    "precision_svm = precision_score(y_test, y_pred_svm, average='weighted')\n",
    "recall_svm = recall_score(y_test, y_pred_svm, average='weighted')\n",
    "accuracy_svm = accuracy_score(y_test, y_pred_svm)\n",
    "f1_svm = f1_score(y_test, y_pred_svm, average='weighted')\n",
    "\n",
    "print(\"Модель SVM:\")\n",
    "print(\"Accuracy:\", accuracy_svm)\n",
    "print(\"Precision:\", precision_svm)\n",
    "print(\"Recall:\", recall_svm)\n",
    "print(\"F1-мера:\", f1_svm)\n",
    "print()\n",
    "\n",
    "# Оценка качества модели дерева решений\n",
    "precision_tree = precision_score(y_test, y_pred_tree, average='weighted')\n",
    "recall_tree = recall_score(y_test, y_pred_tree, average='weighted')\n",
    "accuracy_tree = accuracy_score(y_test, y_pred_tree)\n",
    "f1_tree = f1_score(y_test, y_pred_tree, average='weighted')\n",
    "\n",
    "print(\"Дерево решений:\")\n",
    "print(\"Accuracy:\", accuracy_tree)\n",
    "print(\"Precision:\", precision_tree)\n",
    "print(\"Recall:\", recall_tree)\n",
    "print(\"F1-мера:\", f1_tree)"
   ]
  },
  {
   "cell_type": "code",
   "execution_count": 41,
   "id": "7d25717e",
   "metadata": {},
   "outputs": [
    {
     "data": {
      "image/png": "[encoded data removed]",
      "text/plain": [
       "<Figure size 720x432 with 1 Axes>"
      ]
     },
     "metadata": {},
     "output_type": "display_data"
    }
   ],
   "source": [
    "# Получаем важность признаков из модели дерева решений\n",
    "importances = tree_model.feature_importances_\n",
    "\n",
    "# Получаем имена признаков\n",
    "feature_names = data.columns[:-1]\n",
    "\n",
    "# Создаем график\n",
    "plt.figure(figsize=(10, 6))\n",
    "plt.barh(range(len(importances)), importances, align='center')\n",
    "plt.yticks(range(len(importances)), feature_names)\n",
    "plt.xlabel('Важность признака')\n",
    "plt.ylabel('Признак')\n",
    "plt.title('Важность признаков в дереве решений')\n",
    "plt.show()"
   ]
  },
  {
   "cell_type": "code",
   "execution_count": 42,
   "id": "368c58e7",
   "metadata": {},
   "outputs": [
    {
     "name": "stdout",
     "output_type": "stream",
     "text": [
      "|--- petal length (cm) <= 2.45\n",
      "|   |--- class: setosa\n",
      "|--- petal length (cm) >  2.45\n",
      "|   |--- petal width (cm) <= 1.75\n",
      "|   |   |--- petal length (cm) <= 5.05\n",
      "|   |   |   |--- sepal length (cm) <= 4.95\n",
      "|   |   |   |   |--- petal length (cm) <= 3.90\n",
      "|   |   |   |   |   |--- class: versicolor\n",
      "|   |   |   |   |--- petal length (cm) >  3.90\n",
      "|   |   |   |   |   |--- class: virginica\n",
      "|   |   |   |--- sepal length (cm) >  4.95\n",
      "|   |   |   |   |--- class: versicolor\n",
      "|   |   |--- petal length (cm) >  5.05\n",
      "|   |   |   |--- class: virginica\n",
      "|   |--- petal width (cm) >  1.75\n",
      "|   |   |--- petal length (cm) <= 4.85\n",
      "|   |   |   |--- sepal length (cm) <= 5.95\n",
      "|   |   |   |   |--- class: versicolor\n",
      "|   |   |   |--- sepal length (cm) >  5.95\n",
      "|   |   |   |   |--- class: virginica\n",
      "|   |   |--- petal length (cm) >  4.85\n",
      "|   |   |   |--- class: virginica\n",
      "\n"
     ]
    }
   ],
   "source": [
    "from sklearn.tree import export_text\n",
    "feature_names = iris.feature_names\n",
    "tree_rules = export_text(tree_model, feature_names=feature_names)\n",
    "print(tree_rules)"
   ]
  },
  {
   "cell_type": "code",
   "execution_count": null,
   "id": "87aab6e6",
   "metadata": {},
   "outputs": [],
   "source": []
  },
  {
   "cell_type": "code",
   "execution_count": null,
   "id": "5edaaec6",
   "metadata": {},
   "outputs": [],
   "source": []
  },
  {
   "cell_type": "code",
   "execution_count": null,
   "id": "6127e6cd",
   "metadata": {},
   "outputs": [],
   "source": []
  }
 ],
 "metadata": {
  "kernelspec": {
   "display_name": "Python 3 (ipykernel)",
   "language": "python",
   "name": "python3"
  },
  "language_info": {
   "codemirror_mode": {
    "name": "ipython",
    "version": 3
   },
   "file_extension": ".py",
   "mimetype": "text/x-python",
   "name": "python",
   "nbconvert_exporter": "python",
   "pygments_lexer": "ipython3",
   "version": "3.10.0"
  }
 },
 "nbformat": 4,
 "nbformat_minor": 5
}
